{
  "nbformat": 4,
  "nbformat_minor": 0,
  "metadata": {
    "colab": {
      "name": "Feigenbaum.ipynb",
      "provenance": [],
      "private_outputs": true
    },
    "kernelspec": {
      "name": "python3",
      "display_name": "Python 3"
    }
  },
  "cells": [
    {
      "cell_type": "markdown",
      "metadata": {
        "id": "vmPn4e0Ie9nR",
        "colab_type": "text"
      },
      "source": [
        "##Jose R F Junior\n",
        "\n",
        "web2ajax@gmail.com"
      ]
    },
    {
      "cell_type": "markdown",
      "metadata": {
        "id": "wq9TrfuVfzP8",
        "colab_type": "text"
      },
      "source": [
        "![image.png](data:image/png;base64,iVBORw0KGgoAAAANSUhEUgAAAdkAAAEsCAIAAAAAel7/AAAgAElEQVR4Ae2dbZbrOI5tewQ5yJxiDvC+lb1f7ToNUhIlOcIKB+qHFwTi80g8hBW+Wf/zp//XCDQCjUAj8G4E/ufdBXT+RqARaAQagT/Nxf0QNAKNQCPwfgSai99/D7qCRqARaASai/sZaAQagUbg/Qg0F7//HnQFjUAj0Ag0F/cz0Ag0Ao3A+xFoLn7/PegKGoFGoBFoLu5noBFoBBqB9yPwHi7+559/3t96V9AINAKNwGMQOObiKW/+/ffff/31F0tF/vvvv9Ufyo/BoQtpBBqBRuCdCBxwMTxbCvz7f//3588fBJn3r7/+wrKw8xZrl7B92Qg0Ao3Ar0XgIhcn/6YMjv/884/8izzqHZl/LfTdeCPQCDQCInDAxQy/WiNIo1vz719//ZU2W3IJ25eNwJMR+Gf2vz9//szUX6Ir4JCjKPvy5yJwjov//vtvHj7YlsvypiKZ1+l4i7V/LnDrleee4TtE0VzYuICsY14WmUuVXnLX+vO3IfDXf/5XGndHFz2XrP7H9d9J6+b//vnnH59J5Lz0wd4R3IDsKS9/rnDAxXCoL4LlVhj5JW2b4ubd/UHu5UHceeC2lkA+n8Ji+ZJb00EagS9CIB9dU5RneOfy5mafHiooCx3tH1GWYQt3hAMuvhN63RfQ1+3bshFoBBqBb0YAmpKsk9BfUskjuPiFU/ZLQOkgjUAj0Aj4PlbanQq8qr0PV3PxfQw7QiPQCHwCAr5zmHLulvKjuLjfUXzCg9w9NAI/CgHfR2+R7KL+07j4R93ELrYRaAR+HgLlhe/45rf8XAQunpoVmn4JFv2O4iUwdpBGoBF4FgL7Yy/DbKHUy5cv6by5+CUwdpBGoBF4JwL8SG5lhnXa5R+yHfIvP3zeMfuodxT9O4p3PsWduxH4aQjAvP4jkR2i3FqCQA+5GwP+pkeodOE/8OA/v7iJYs/FNwFs90agEfgOBC7/yGHrLfDKXCzbTjldXn5J/4/g4v4dxUvuZQdpBD4GgS3mlf4KOaY+5XGY1VEuHu21mQr+t89cfQnsj+DifkfxknvZQRqBH4rA/t/ZpLzDV7dY7nOrq3Kx8UdhZy5O95fA3lz8Ehg7SCPQCKwiAKXKiSMDbmnyxw9T96lyGm3/fbFxFEqQol/tfNeuuXgXnl5sBBqBVyCwM2AWmtu5LHNx/klty6uQZprR1vRliJEV0rG8gO7fUbziAekYjUAj8FIEptRWyKvw2uIlRJycnjL/CUk1UrDCmCVfMuyY7ReP40sg7Ln4JTB2kEbg9yLgb8ukS/+FW86V+3y3T3kwaZmLR3qFkbfMshh+iGZJkvgYExt9daFgLl9y75uLXwJjB2kEfgsCMq+0dfglHWrW/rKQ74un3C1R/vnzhyxqIF9T5/tiedbVqYCZAbOpl9z75uKXwNhBGoGPRcAhd8pQ+f8vcQiBRDYNJSdOzVBKsnJxGiNLmrlkRkbg6b/TswCNMwKHkEvNxYe3uw0agUbgFgKFdGSfLeFUsq0gqU8GTH3Otr6I8PVC8drqQqbO98X5wkGSLRFw9DDAnaSnENgy7rl4C5nWNwK/AgEYpxBZYcD9y+n/YdIWdvuhXJXyLAwqTOZF1kDfFCTc0Wz/PxUvZUP6uiOUtyVbzZ7SNxefgquNG4FPQACiSc66I5/lYvl0J6mUJwliLLfqWwzQ50g7NWDEXqlk+le+AuBLnonm4pfA2EEagYciACstko4Ed0o4y8Wngie3FoaVr9cDpou0zgyeU3YOxQSfEroj80vufXPxS2DsII3AsxAog9s6W6XllIDSAPmruZgy/BPitLUs1VfJpVT0vpORi31ZbJDx6BrZ2d4Pf0ay+GQ0Fy8C1WaNwHMRGLnDWgsfvfAymct0+8JYJzxuVVMaNVH+diLf2BZ2Tnsiy6T5jlguHu2tB8Ei/SWcr7Mx2O96cbW5eBGoNmsEnoKAk90OiVhroZW83HFPs5Rxyc9Tv2krFEbkwqSmG8srTI3BlN+BaJpOQoeL/dWExShYQAqCn1Qu2neE5uI76LVvI/AdCPj1XJ46FCxLHtlxWbHZcX/VO4osQ6YjL0tysZcS61geFA9TYw+N+kaCFJnU+NqY3WhTfhftO0Jz8R302rcReD0CMO847jGBjqQz1VjWdHVFmSS1b7/OxTYFo2WK5DhJU3uoMN8w5HsDyhvpGxuyjNM3EGUN2WbycupTtk7RviM0F99Br30bgdcg4DffLWqQbpILtuT8axI2W2FHhtqKuaM/BQEnCiSbnxlfCk4ls2oSrnIydXbkO2WViQPMvpWLpkyatG5VRjuFwJbxRS6mN99ke6lAPs4Wep7KlrV+tOrSQiPwQxGQed3Vi8IWcYzuIuOSfKQGQUIp+rzERksFbE5tXkkj4+c/qCv6vJRbIXTLSL2vF7b6NWBysW+BHM8NXn5frHsKon1HOOBi7j2tmgYlz5NKIUgNBxf2yOVT41O3U68WGoEfgYBbPTfwBVmm0DcpI5XCkgZFzkt9Lwjrm1cq2GqkEGi5TMpmttOgIEwiekk5uytj9dQMiBKoPEd1Ee07wgEXe4gl3LKwHO2qjJxTcP6lVRnsLN0IalpoBH4oAjzbblT5IongmgyFjURGNCnDjQmAW7mscMtgUX9q80oRpWb0Y8Yyz1mzzabLVJkGvnGW2VzlNkm1GJCuhOX+6sgJcf9Z3eNiObfwJo8C9VGB9967ArI+CqlHLjE1uN9SR2gEvh8B93Bu0dylRb91uU/cufW2IqAXgcIj6bWfC0vdFYygZn3zTpkUd6KNJZklXzRTA5gbM+NkkZipkfTHuTgJGgCdKdN9lEX7jrDHxb5PGHnTQ8NTiyKEQ5hsD4320nc63umkfRuB70QA1pAptqjEksYNfEEjF5t3K8hW3n3H8sWf4CgzUQmyzsVsf7FKeoUfQJWAmVFZ5pUlLWask/hSECwsNQORkVMoR4JJLax8NRHtO8IxF9OqddsY5TLzW4EPKJokXLGT4rGRtQ3SQiPwNAQYR9zGuW+R3a5lyUakjGJw6rJQwI6veYuNZFf0XLJhlSGvw8rNtSIQLRMBHZ+wBGhPK0ycC2OmvUSE0oDJ13kw2DJKL2U/IghFxslvPysIbNkccHGhWgrainVZ/0VhL9fTjo0AT37Z7ckgufOZv9z2uSSSqVyRp7Q7VRpNgsgZSD6lo53jxDgIhc5UZrMo7XFRcFz1dYF/lDOprKcNS3AxOKSNbdp7WS3dMeHK0dmdloQqcaYVLja+b3bMxfv+r1o99TXnVUk7TiOQCLjN2KJ+ujn9iqpmFMrW9cFOfcpjhNRQknwEn6ZBkR0b7UsDmGXKxc6kORXiiH0pOC/lPjMeCjZFCqKpzOCjgQ2WI6H0ZRAF25H3S7PFEvvxUzNPvu+biw+RfYmBj+xLonWQRmARAQiXDTZ9CN17Tl7j/kxeSPvcpUU/DYKyWObl4VxsBNtPd+Sks1zdKSmXdDGauRYFedNQxndJDQLEl/QnpXqQpEseq2bBXQpWwNHvDSVOmnmeeWf1Xex9x6zn4h1weumjEIBqc9Bjc6pxAyuw08pmzr2qLCMUphNBLVeE3P/aU39eWhhKL3NW1Z6zJMvLpTxOij4vwaoEyXT2uyWURJwuGDv+W6odWUOmLqtcFiXpcujWLEEud9x0RcAMx+TurWZP6ZuLT8HVxj8MAd8zuNkcjg47KVMYu3prMoUjtlxy20s0032O0vFQEkE/xilBvLS75KYkMi13hPQdzVydfp+wgCIQx/NPVLlTwMvqCHWB1wKICVZCZ8Ell3wKmRLE50Qvg5vUodgiNS49XrtsLr6GW3s9GgE30ima2G+p0KL7EGGLi42Z7m7vEuTwUnqyQV3QmMW8FuaSLgjGTL1KCCiXlGX2UyDTezlUYGQCEs3gptMxNcoIgJBv1QtQ8rLEOg7OhJoWsHWOivYdobn4Dnrt+wgEcoM54HxdZePkxX6eblTLSFJIsihsUi5LLimymHlJ+77NlPIUtFTIwmyEXqDvlaS2eSiQzk+zQ8FUNa5arcVQm0eFLiOHqlGgu8REnA3reWmKrK3Uc9j1isFTuJiGVypum0bAV3XunO/HxN2IAEe4gV21MDXSXGq2ZBp0NdlEJQHzcuTiXCVIKVVO1DInx+RoDaTFU3NxtuDJITkaXEF7KoRA05EyJFMdi5AutGMoImuQUDika2PXxLcqb/Rlobn4MnTt+AYE2HIw1CkKeGGt020/JTj3fI5ghSPyko2dXJCrMmwapJzG9lvYPG2mstzH6lb8PABO3QjjZ2QJzsNVPDHTC8bMWTXjeGuya4PTUUYgDhFMTWuGEiU0Fpb4iPYd4SlcfOp23mm4fX8oAu7J99YvKbhFi1AMfLCTMoqLu7qwxmhWgsP1KgsBAVTJWy4zBUtTrzRzhqXas99oCeUQOp24qcS+khZVYpPTfZGTUkXGv9eVNjksM4KF5TlqJQS0mJc8k83FL4Gxg3whAj73X5hjLbR7T26S2lxSI+kQWxc2eTFjtSjLJXNxxhkNIKDkx7RfkbdGzixbSiKg580his6kVi5LEqpc2o6VJ87Ihio2OcaW4FmwMjbGJGwJXi4Ne9j4isFTuDifnpW62+aXIMCOekKzVJJbNHcme3gcbK08jWWNIhQbeUdKKprinpfkLQE1GPVZ+biKo/osg9ps81CQ+4xmVaOATVL/6JUjdtY5WhYNpZakmdGDwTfLGmOGwau4q7n48OFpg/cgwIZ/1YN+swc2ITzihpQi/W478oLUk14rskRAFlySMQshWoyWaWzGwkcreruTetKL1XV4feuNi6RGzOxaCvbFQraMu17+NMUGeXK8THxQ6mIQBZ+9FBLPfHFROlqHolg2FxdA+vJbEfBLq1Onm9O99K0FzZKxRfmSnhuS7Z1Dk7RVXIqXq0UoxFFWx3cUGKSXLklbKhWmLrKVBFTMyiVNedjMkJvo7IL7awswo/xLMX4KddZW6nHJNhVYkkBx5NIg1pPngeX5ikZ7C/40Lj57Ryc3uVVPRQDClXbd8zAXt37nAWBvvKU5Np7bjyLd4Smw29mxRV/mL1d1UXNTsE4Q3oo/Hhg38+7cu/GukQvis8Lx+4TIw5geZgiuZstwIjF5ZvJ+oTejxrK/oYxQYEwD+Zp6xjYvaHouvgBauxwgkEMuT62fp/atadL9WgRDrQtwlrvOyWjKXG5y7eULd/vUkQ2/tSRzEc0sxV6aUE+bo14DT8QxJi1k2cbROFfP3hEfj+zdFBamUL4hJcIpa098PiVx4lu/h4HDsu66CD5LQjeeHOsP1Y5lc/EOOL10jIAzb9lLx56XLNh7fF4KcOzkdmV0Kn1xmZ+5Y5Ezght4S5BNtgzkCIduS8q5r7jT504lLGV2jf22njFNilJjqjqG9T8WeQeNTzTayUR+l6IkYgj+f0L+MQ5CRpBqJWhs9E0MccRyPHp96sY6jXZHaC6+g94v8uX58zH1oVf//VjIIwjs2ztlGMcguattGSE/Ja8yMTFZSwfpMpXHdMUsGbAslUtbKHovyWXljn5ZQ2lH3yLwDJhxXwBk8uJotEyN0n598AheVrn0e0xe0pdx7Nrn1qMub1O+VrI7wuanBe+3vLjaXLwI1K8z4+l35yj4aD4HEShjLFj9Yc34Ts2SjzDI3ai8NdmJkpYIkkLR71/m12eJYOoy5tUewV64swaRttB4uVNwDq3m3RGMmQfAzltsibicbRkHZOxFwb6Mb+NJuHkmjfSNyxjTCDvNri81F69j9bGWchZPm58/vWH6clyyL0chG2ezbfUri7mN2eGSmt9n3fBSgDEN4tJZofDFvrsdlbw5/e1HYHUkIF+V6G4um90REqKsLYmVG2SpLMHIRE5Hy0jBe71jKZPqSCJwzggGySKpBN+dfteXmovXsfooy3GKZJN8VJO7zZTNtmPrDixczD5kozqxalx2qfvZna/71lKxHElwNFBjO2ocQlNT5FK8Z0yaJTtT+VkutpEceLO8AghmHJwQtHlLYXnK+rrfaHZHC0Dkah4S5CrBtURvJWe/FnhritBcXAD5zEsnRJ/4Vz1An4EX22yrFzdhcnHK/kAq93NueCLn3l6UJT4r1NGqvKe5ZC8qd4QMpZmni9TJEsbpcoqLnXZHoi/U7KUCOE/7lXmtX2M0ErEGeVNIIdraFGHsHQPRviM0F99B76G+Mi/PFgThWPHQoh9QVoErWYMtV/g3t7dTkkr2rTy1tY0lNYUkwcIFLskaellhYYdisBVQvfYKLo0CzZ461wmrYzJy4l/kfHqnZ4MTcRZJLkOVpfEdhZakwx7MfXGhlwKkf//5bS6+j+EjIuTBziMlCzyivh9VBADm1kVmQ476MoKlgTy1Q23er3ScylJYDuBaplK8t/LaY5KjoTxR0HiJl76s2qNJdwRTjOzp/Cv9GZ+MhKVNZHjZI8pqaUq9Bef56vGZWSzPTunddCUCXez0u77UXLyO1YMsObeTf5t5v+j2uI3ddW5XiIC7IH0U7vO+SDTpLguMyql9ciL1jI5oMu+WDfpscMeSvqan0VkuZqLEC2KV+JJbMxft2BQRpFpgEXlRYpsYPDs1lOeoz49xtPdeWIYPA8b63hGai++g992++ZT4MH13Eb81n+AXwkLP/s/vtpiJlgRR3A8vzStt4bIf0MdD96wtfbHUbKseDRCM5lFkp/uC3+hhOvlUTrQA519Zm8jyYI6oeEm7GcTK0750raN9GYF0BJGdrQEk91teXG0uXgTqPWY+IjyXbrD3VNNZ/xcBp6TcruxJblPRA1vSX058aTzKJVe5HO3lHR8VNb5mLYRSKH4aMxkTgwxy6rkQB3oRsXz9agpt7EI+FUOXbFB3hEKv2ONu0jEaGoxtf7yVpDiFwJbxRS6mPT+5MR41+RwcylQmNFuF/hI9kPqgi94vaf9ntTmywMiVdlSM3d5s5sIjKtOLybFotCyCT86+/VhGjoHG9KRxJnDp7M6VNPJ1BEmNqSBFqhnZc+pL+3rJ6fRLO9wa8JHBdEku1h3BTSpW3uU7wgEXew9KDsmC0n194xlr0fsaw569ozp+huDNBq7PaOr3dJF859zn1gCHtEk5WbhsK3lBoQRXnwLBBT9dWMrPKZFlSdKNKUZ+PLt5s02hYAt4NsB3JkWAZ6QUjI2QfKoyexEKVhmx0xIZs1KAO9SzRNLzrYuYXxMOuJhOtgjCuyIK3hVuITVtyRoDyrUGfq4XdxdwnGJ+bjtdOTs593Y++UVfWEZL9LJGMfMbetGPlz5R5pXmpnVSAHF0GcNODcy18gzAFTJGyWvqZDqVhXDkYqNJoPYId2UjRiOFLok5NmgITp0UoN7iVxo/tDnmYkIkb6rhHpT6WKXKfTljpozXR356v089vh8JxQc3lTvfGy0F5KqbuSi59GlxFfrwckcwrySyY8zIlWSdjKk+I2Q7p26l453Rsk2JL/mOrpMi7E4WNprCdMnxlmHW1ObV3YGaTpOd0wb9KQS2jG9xMUHBReyc4f0qQf/TT8tKoFV+huDt3/p68RltdhcFAffw+jCbm3wqE3O6VGjdYqYucpA0NzXLRLIVQtqba0VgO8B0cEWOrgZXSN5wkiURpGFhWS1oSEpliUuj0YtlGNCXGLmFxRkvDqqVxg9tjrmYlBCu6ZNW7BMbaiWx5y0Ve5ql3vtxWOvPMvCZe9XrpJ/VflcrzblBFgV22dR4XBo1OCb+YyhH3XxKS6hyOQZBA3Nlun1ZpmPjY+zZYDQKo85xUNM3OScLxoCwpKBa+7VI6/HIhNzUk90KjWOoV23wAy6mPjlUpOzkJYK4vyTaG4PwBHgmv7GSTv0oBJImpqR2aCAFpHshiLIEAql0pkulvEwNK5VACGYfuXIHfDiET+NMUzuokkjyQe9eI9dYtomy6zRLR2OCjB2lvW8tCIgNBjv9ri8dc/F6rDuWNn8nyBt9vfGeW28splM/E4GysZMQd5bSLGcxqMEhLs1yN6UeWQ7lUk5xCFWvwOPNZY4alJ3pDpE3poyWmhz+TMc3DC7lZTZaKrVXsDxww0VlhtWFIVcbeRyN3XmJo/o7QnPxdfS4wWyG61Ha85chwDbOzb8uFxrdcXQm2EknwzoaZ0BXIf2d1Ke4OMOSDveSOtN5Anls0JS87IGEPgOqgVV9cWTN5qWwES6yA5FyXn7fO4rv2SlC8z3p7mSRgpuF78D4y33HPS8p7Aiy0o4NS3LxlqUkVchxLEyNT74xDXLqbuIOLfKZzCv1ky5bpilb8whBUxqRfNXrXgrwki58++HkDjv5Dhoz6qSGU+1vGfdcvIXMRO9DOVlrVSNwHgFJbVFIYvLrcwrGkbB8aB0d0Eh/Uo8agyTdpFKSQnlqkLIeKzQvSxpAc14igLG0CM8aisK0SaJPd8rmfYhZwKecN8SnQdAQE5aai88/9Tc8uIunHrgb2dr1dyEgExWym176t/7paiqTntSPuXyqtVkRiCNLmmvlzmV8jwf6MiA2XFqzpcqwpIM94UQdk2FV5rtgZCrHoLAwdC/XY5OfubTS+KFNz8V7EPk07Bn1WiNwGwEZJ3f7KC+aObvJ3YXmjIze6c9LDYpQiA/COtV9BszxNvVwtJos3lxQM0so0ywboWajiWGGAjFiajCO/5oRzYyGuiM0F0/Q84Q8deBPArWqEVhGoFCG3JHCig0Mko9uRoBNsPGTsHLQYhbDLrf4r6G8b3Y05TLpGC9GXWozI17Jy1blkhnBxHTM1/LpjmAoUUUQMeu5IzyFi1/1t8g7WHBvcqa4Ga3dG4ELCCSbFHmLJeWR6T7KVQxKWL/Ro5etvEQwezE41WOmltpQ7pShZclFJSiNbHm+AnYJ9tSLwdwt76rfJ3S0wswlIKWqa5dP4eJ8GXStk5te3IatW34zeLs3AqcQKBTgpZtfzZbgk5xELEk5hE6FEjMjsEQZEtbZzUtSAcn4KfvG1q5pChuSUg+cS3esQuvZiBtcpbMXjhgkIMhJ6BSgjWO+vdwRmov/cKfPPk93QG/fRmAHAUlB1lCQldRsCXLxloF6nvwkwZTlHeypbTTYaWdcSuqU3TKRxZuOjPIvlxKul0WTMXMWdhDGnk8ZwDPAdyNmJ6B3Af30u8jY9aHmV3Nxs/Dh89EG34zADhHDIO5/yXQqSGfjaomwMh4mERvQOLLYIlZG8BVBanyNa/ykVKulQWwKaRotSRalszzuBW0z0kiuZqmcJVbSXLx43zfNPCc3LXqhEfheBHLzSygpOJGlElke4VIuLvrRUQ2WfuqoZqs8cy2iVSLblPrsiKT5NiDTQdOu2gteWbDBpWOqRZ+WcCt6X19gbHyC6LXY+L7ZL52LX3WU7YPbq43AKQTkC/d8EaQt9HDB1EvCylWUW17wTsmYl2Tncwy72GlO9wTJUL49KHm5JAVdYAkXZ+UJUcq+3zByDuBlNZeYiH1xIQjGeRWZ/Dou7nF4cc+02TcjUCgpt7ryls2oH7k4iUk689UtKQolqXQAtJIUTr2jSEfLUEmRtCPDOsnCenppkF6GSoGA2YU1ZxDfaRAQRi5eLPHpBP2SR+V3cXET8Usemg7ycgRGMnXuGzklNVvyyMWSDi7TjMnFaT81NrW8tgKLLJavFwyVggXg4ltaX9RCnbioLBGYZ7X0O0EpNc8koKNlPtUkDoTis0S7dvmLuNivP9eQaq9G4IsQyB1eqCQvncKKcnopF+dYpyw3QYjqp6GmSolSSl0Hx4AUSQQ+hUJBvfFx96VB9mJkNvvIoRgTPMftzJKpE5k8RUikpbXdEZ7Cxa9657KFxVfH38rb+kbgEAEZxJ3vJk/Ku8bFGcr40l/hFCtJAyKUStLx7FxMGVCh5Zl61NB4ni7QIp/JxTnXG1AhW7BmV0s0DMZiEg1XD2/xisFTuFhoVoo+a9NEfBaxtv82BArrySy55wtfeFkEqSG/Aib/jvbOhslTuGS00bEMietwGZaMMGzJaHCGX4dW+ZGyff8gaAkmNQtjXkq7jsnTVxyWYfsUkFl4ueE5sY7DaPnhXOwJPHbemkbg7Qi4yUdBznIJ8lK/Q7LJxdobZ0eYGk8TyVNUdQpJsmQ7ybkyXf7pLLP4bhcDLmkqY8rgWT+pcZR/ZeRSWJncWaVxY2Zhp0AYjT+ci7903B7RbE0jsI7AFiey53NVDTufJehAUkj7kYu3zPAyvkHUZEZXie/lesvSX6mwMPu46uQr/xqqcLF6gjhK21H5lmwvnge2A2h+daBIVh2HAaHnYkGbC/kVZm7R2kbgTQhIZG7mQpfSEwZQyciMkIJUZVjZQUfiGxaDErzUkNGUEWQuxs9TKPpNX5orwb2k+CxVFwXJVC+EJN/pjGzN2QtKcAYNZBDOSpBfSDKfPBf3UOzT1sKjECg0AXes8KBMmi7JSvIRTDFd0mZLKPRdzHIOhePMtQ7yVrOSJtxn/SZl7DWRgKCnEuu3cgH3MIMcZFss04xKjKAgNZPaT0u6LDyFi8sXh8v96PjC88qYLTQC9xEYaYjtLRG47VOQX9JMKkklXvJjBlHOOXr01Wws1aWs59TQIxvKsxI6wY081VO5NTti65VhS7XGxxj61hHEtClCQp2OmN1/Kv78+fOxXPxycn8J3B3klyMgu0lJUyLWTEaQMhB8o+olln7CLCWOqylMI5guI5SaDXL2nuIog3OZLwo0yNqQnZcdSLNCdj11os8I49CdvtK6L5rRWCdtGjB9zyIwtf9MLuZmTBtuZSPwLgRy90pA8g7C9NMxVjbUyyU1CmO6aXDIRYrR3dcCeqVN5i1sdQivAUsQCiYaVGttuaMtwwbROBFjrBnpMM6w43hr79mCU51zesmrQXpdkJ/CxWdv506rILVj0EuNwPcj4AZ2w0tJCrLJ9O9RkGOhGC9dRaPe4ClsraK3jJH6MwjcxOc6nqRgCgYTsviqV6VlmMix16RZj/a+nzEU9jzEu30AACAASURBVOUWWLPxxTDfcBavxEQYDXVHuM7FWS49gEUiO7XJt+yWfvZs8XwjXQLkfTJ4C43AexHI/ewGliDUIHhZiCYvR9kt4FwpNxXjtHSzILCRtdeSsyG70ObCzsXXZgnLDVKZlUjTeRNp01AFNGe7pKasWYOMAKsUswRBlNLG90VZ3gX5mIupbwxNNcm/duW7KtrwuwC4SKMeXwQxhWemQgItNGZJxifI2efD1C00Al+BAHu4bGD3SxLQaDN9+N0Foz253FxbBDp1LMrku50leW0FOgsbMbGpFNjdgkAKDGQSAYRqKJXGdbR+A6YxjIENLtJLqRN3v7jkQbLS/o7NARfbZIE7yS7BpW6MdaFDikhZg/G1kbPzyLM7zeRSVpj6lhuB70SgUGFSQ45+bhwpIylAr3FwS3tlt2ShGw0Invsul4os+6gfK78AqU0hONURilzIYghjiJUEYihLVUMcI0ALrGIs70Ov2ZrolWjG1CABvwAFLgdc7PhdqM3iPD3ogU/v8QhrQiyUZS6+3Ew6vgSdDNhyI3AWAb9TyqHuXjaCn2yo5AV3R9rwVKtx9xkfnsoJRnrSCyHpKfOyykZOG92lMGdDS13Ex/KshAgeP469MEOWQQr7RZBb5aVRwNEuILSMbA3amEWCslME79pL2OYiFydH00+5DfTDkweyKXs79bJJNfeFr4h5v6qO8HsQcPzMPe9WdyerScHhJpWFWOUsN5TGyQ6FwbVBYJuolMWsecrUmjl+Ld7WElZSUy8jj83SCKlJR20EkZctuNhbM80SwXtkQOJkdoZLwiYv65toL+Iwmh1wsa3arUO+S3kX7TZv/9izXbHEbRiLu6l5CUA3a2j3X4tAMh0bmN2RpCPv+L2TKUcbBKl23HREgBDNWPhxtHHPTgV38XSVCtPm1EajBRuUzpyyswsPJBDgWRJGUNXeNv3yIc9gIynJp/lwiiFe9m6nI/gsFbQz5in5gIvL2wYQFJG8BymfqiC/CJxyXDG+XNVK8LZpBLYQyA2MDXsn9ex2t5hMAS8XivEymcJorpKrsENuWyz3P7OSZCjIbvRlUNuCougLlUuyMqlNGZYabMqTSS62QQQpBaxQZvHoxcoenYgzsjIC5RVefgnPHHNxgfKLLsX9tfET9NdG7miNwBYCyVY+2DKCpIOGRxQXBzq/FKdXYbFyKaFIFpRXIvi9loxJfFl2WR2X8sBwqN8CJPWUjSb5MeVyGAhR6okgTVuhHZHIRsCBCNj41tQ7YiLCSs3oM0K2j3H2eE1+Chefup2nWn0VUqeStvGvRUBSkAWAYuREd34ZjdHziS+hHL4yFI+3SWUijQ0ud6fGInHkU9KRpDK+KRRObV6MmW1tJLNzetFXQuQEnULWbxAMLN4g1smSJ5+Aj/QNHTMR+0nZXr6KYT6fi/1m8WvZoRv/NgTkLIXpXJw0AUHIvNJTsozRpA81oz1Ltixj5lCZDK6BjkUjLZayJXc5zqQ7gswlKZMX1gMHGdBjwzbZzhrgC8jIY5EG0cCMRCv67DdBoymZnUsKy5Nvp/f9pV/Bxd6/fSx6tRG4g4A7PPf2lIvNki7wi9TMUqFFHKdLmRSWxJgIloFZxhkdk6kl3FJJ8bKjQ8GZVNLMUE5O1CAFO7piwJlUSJYei4tZ1Jsu8UHpLXCy5naki7IgKxz2vm/wW7i46Xj/OejVmwi4RRmRyvTE41dsvESQCPCFaMrEpw0uyY/IJrIdK3EOZcnLUkbGLEsmHW1MdyhkPbBYZpmumk40wEGg0iuNIWJYWL3p/JKB4Dg8Wkro+JYzoLn48KZPDLx5k7VWNQJXEWCvlh0rcxE1adQJLpVyBHFk1aQGHF1KF9Mh2EpxZ9W5j1BpM8aEa9ImZas1476Q8yntOIbLhrKkxlpSMJ+SrEM0hSU+IjytOSN4E1Og99EMAC2431Hs3/TNVR/oTYteaASWEWCT8+lQLKMZxtlNvnCHYyxZKEhzaohf+NRcKSQ7pF6ZeviUsFwtggUUnsLs1IYyFII0mi9nCGhwcZABHapkwxzzARaN+KskGilU+tKDqkCPdB5XHmDW45GQaJvxrPCL3lEkNIlm6ltuBE4hIGfJDoXX5Knc9hjri4BBLiHLWRS2lchoySa4ZHzNcnhMMwwIIm1lUy6ptMcV6HRXIEtGY0meFRMS6ej4bIPpKBfrTiIbxF2G5dII44sI30Vwp8q5uNL7vs0v5WLPun10erUR2EJA7nBvO7WhUZ8R/L4vobj51Yw2jg4khZIkykynXJIWFpPQ4TuM9fWLeZaUq0W+xsVjEElz+q5cEDCzNlogmkoiQJcqjY+xECVHG8caJOuy1FwsgK8RfChfE66j/A4EHHLZn9Ii+zNXxUNG0DgpwFWJBkdZA4OymuSSshNcBvElgLlSk0qbSsEpMpXIp7jYeROvpEvnXEYlB1Vry0QOp9aAIIcKAjj7PUCgAIfjzduEsfzrqqkRMrgDuEGuCb93LhYv4OaZUNlCI7CFQFKtxARfFMJyA0MEOUklg8hBSdNTpqYkiCANLMPaLF4N9lKSzJV0k1WNxciJJXW2ad4dIV8+kJ2AlipdIpS9OcKIxltQvLjM4nPLu5rztSnw0leOln9ZKhXu9L6z1Fz8/8Hhluwg1UuNQCEymIuNnc9Pspg8BdFIN7JnDqfI2EjfRM5csqfUkGQxsoN8V0gcBrEwJ9ZpmxZM/KzKHleekORNY9oIGuIIIyyJzTgsU61VZUwKy/ZZJaBZdLEpcwlm3jhzCVRz8cqtP2cDyud82vrXIJCjk0wBOyQGPEV+jXUpScFtLxG4seWLoiGj6aY0QYrkmiQRc+VYJyNbtkLaW1VWrqU9Hgq4lE/jqCcLxSvLrTtNWTN90SlKo3Hq+HWEpIm29dCO6bg0hVB8FBefOloP7/cdA5/mO0Ha9/MQcMe6Fafk6Kq0AhTuZw1S4PlHo6WMoOD8mMG1xz2JOOkGvjCU2SW41JRTx6UiZBmLd3xagHHshaooQ6bze4MjPPWQutSc3FrKlou1kVXVwAMAbmQvDSh6i+3vmPU7ik1wgNvnYNOuFz4dAekjGTNZgBFYQsmNiouc6FIKEIH8grG0CwG55x0SNUjCslSfW9hNriEvZvCO7rAPZWwRNzbT4hefguJrPRYsDtasIBR44UKDZOd0zBRqaNbu/NaSoZT1QgP4ljHe6Cx+EYfR7Clc7CM7lvheDTfgJVi/t5HOfg0BJzWnYPnO1685ryXB5VPtnFXcnbnUo3HDZwHJv8k4TnMqTS0X8wxnWL0ydcpGU3AVNNgd5lpB2HMr25RkLQ/SJH6eZKSwKQsDGXpE6bEh8mRhlexSc6bAQHBsyhuh4L17CT80Fwv1nuC93zPqtY9DoPAFpJN8lBvbh8S96vAFMMndOk6jFaXujmbyhSSCC7wjhbGajGlJYwrNrE0+QlM+M8L6nTd4SWcuOTTTYSzlGQSoyT7eLG+ES9ZMKG8ZpMynecUWDYXlIWF8C1vHYbRsLh4x2dSMD/qmaS/8cATYZuwxN2fhYlmDrS6bQBwjABKBVGJkKJLhjmhodHHbo+FTpZUYWXbQRu6TcQyVNo7/GcoysmDl9bnYROmbhSXTJaoeKt4RN6N1CrsBEXBRaWpukHoE2qfO1KB3fjeIN2K83Wc1T+Fimjxb/bvsfQ584t9VSef9CgTYhHKrGy+/5PrE5m7kwcDR/WyFyZisJjeZziVJ0wKkaQQ/NVDIJ1N6LWdJZszI0hMF24jBR8Ee9wVbo5KMT8wkfUNhxpKzqkXShXdBAqXr7KuUTXyVBhxRJTgGpWYvrfay0Fx8Gbp/Hb09+ejfitjOb0VAsrAKX9GyaZML5LIkOyLkDjeUSl9WSEllCsZSYuLpcmo2jgbFnmiZV5ma89OJDw4qB4BcZtKpkPF35PQtFE9JUJvtpA3tE1wDeVPYgTSJOGdtzdywI4YFgcSHvPiaoqC90/7+UnPxPj6rqz40qw5t9zwEOFnHutzA7HOJLHlZzip72z2PlxtbViImXltBNKY2U8g7GqjJvBJ91kAoHEvAfJiJI0VqKSZEGEGbaqzTvAQESXI534zGNmVSWjNacclXCoQVYQlUFw0sJt1FACXtC46FTbteVDYXLwK1ZMYN82Fa8mmjZyCQY9dYkTuWjcotTgqA5tzPcq70PU5bxsw4cJNsyM7XUvbP+OmupewgaWbNyURYloCUIbMnK8me5mJ1BK1orCQdU87tI24aQKOJQFniUn40Ao4Ez285lEfjeeOSdgmSN8X4ScfmKi2funwKF7+kmVOdf6mxt9YH6EvTdfD7COw/gezGwoxykPtZNsl5zdrkDgQfEt0lRAToOymMUDKpVZXIustcGcR0Ppy4a2ybYOIq541UldntcV/I1GQpIOhOjxCfibxHlGQlCBiX2b80nkDJqiTNLGQ3nUvmxYV2yG7ll4Xm4svQrTpyI33uV93a7kkIuIeTsHKvIiez+HqXPkZSwDgnNbMUQRueomQEwvqM6Wht5lWgBVyozYDaIHhpX7ZpIoTDeyVv0oLgQGcWkGeYSow5mSx+bFkWlsdFGGP11kyDmuWXG4+KPHFxHD89Bg5x2DF4Chfb8E6tP3qpPIs/upfPK/5wL7mZ5WJZSVJIWBysjIzZyG5sbOOXfT6+2ZBknTFxIZHFaJZ0gyUxzYijQRAk33TnGXYJS2Nm+6Ms+Zq3JBJY9TCj/EglEi5laMwleR1XETKCzYKP3RX+Qe85gXFeytRYepfHxtc1zcXrWL3MUl5+yS18WVm/MpDUsNO9O5MdmBsYLmCXyoNsfswI6x1P+5FnJawspvgmFcJfjop4SU95aV4HT3LRUbo4POJOU5Zqj9ITvlnwVHYcNn5SGy4JLPHNwk7hM2+ZXxSo0NMi+zXU6J53VhCI7+3D3fi6kEv9tOtTyutcnOiUlCzxiExlnyEdy7mk/rMFHx0eqc9u9jndjbD7lG4VWfa/+5adyaebVubyy3XJqLuCBmWryzXSvZW4ZVKjbDGk8FMDAtK4qzaCmcU4hMprbGEdt3BT7xmAQPxSDNFMWi6dfBU482RD7TNstllqzt6zX2srcag8O/JcPHx+9NoRjrmYp6SEyCrzyZvK+CYoPliG9dFR89sEnwA38G9D4Bv6FeQx1852Yguw1f2OzKW7UYJAcLUMnrlx5A45ZVzFZpwlp/qSmh6tEI6TbbMpo1GASxkQGzUK6Ec8U2NYE2U0yZe8gpApVMowMEZSvBqDA76+BBQWvxloUMqTpmQnSiWCxq8apA642DvnIWwnVqBAcXnaZNGjbIc+i9j88k8fEXfgLwfkfvtu8p1QPsbFRl92plzgVkQo+9ztLcXLOA4lZJRN0sXgKtkjubnMa0ArzOPcUAhZRqZmM9qFwSVEUqcBWajQNgt6XJK0pM4UkmairUEK0yCyE5BSkqxCTJoVTzcXoKlXIKlI0qDlkci+9tufYjIqD7i4QK9/qRg9SmQ62Zebi8VzSwB/P7fMWr+FwCno8oE0oNvPRxrBT9h53I1sB2Lm+YqjhRmnkELqWZJqy1KyDGHRQEZT4wzoXtYXR9EQAQMioB8bFzoFOMtjTDRIQV6DY2wxClZFR7xwyOI1kIioTdy23lGko0V6POAuy1uPqUXbfq8JF7nYZBREzymDV+pxKTYZR7mFKQJuCZ/dqVkrc5euMEUixpZTA+Y+zMlr8Iia3M/uW3dpxtEFgbvpxkbwUiKAIzKyS2TJ2TDZZ0wnJphJqekFhmUIlYbkKYHaEaiZIrM7G/e4wlKsvI9oJG5DyZtyffI40bQpkNKC9iUmd5O8yCOMefuEdAeHw6UTXEysAhz3z5vqEykLYy8iBhEpND5JhxW3gc8oT7NfoxqZROby9sgns7AP8d2ESVUpY8B9cSOUzeyW8fZJFhTAp17cXG3Up2BGg2svwWnPUnbEktlza+tlZOqBwuxxxFyDEgFgpbzMBVckLBYpHRe0C12WVYLTb3admHgw4Et2ARm7KMCOjV/YjAdcbJOEtlA590LK0UWAxqXWrCDgw8dGesmTsZL3UTaFJu7UJp4EcU8CbNKKBok5z7P7GRtjMnYQRDoozJtngDxlCjTON15OjyKKMaB7zSEp45hLJTGNTFNGKwOyBGrLCNIr2cVTQWIhstkNiN68RdAePagKuAigxxhLeWy8px4AxtHGuwZc3Ds7vSwcc/Hl0Kcc88k45djGiQBPCc/Zqx6RjP9Mmc0mVb2qSJ9JNyGQJhG4mdm6cgc1SHxubClA1jM4QhIHGu+pnJuWfrnGURfRKPq8NBdefnowWLbR6KtwkEAlGvh6L6wTwVxFEOGi9zJ5UECsk45IiqUsz60ph4ckbnxboxfspWMSEVkDOrLTy0Jz8WXofoCj21h2/gFFnykx994Zv3O2kq87ORmNbaxNIQtckiz0dYcrQGoEzHsnU5gFSxzz5loh7KmjFJMalGjkXy0txoL1JaMHjz0Cq1UlysnF5iKC7ZvaRETWIEtKKtTRUh1+QZ6CZV7iZAThQkh7qrW1DIJZc3He6JaPEeC55+nh8XIvHTs/0iI3yRcV6GaTHdzkbnuWpE73arqMSle3BLrzfsEpyelQCTwl/cEL3tlSJJzFqnlJIRmpJ5SXQiGR2XLhYu6FZl76BBLTgDKpB0mWLQI2Nbpb5Cgk4eaq5ZFdYBU09nClKj69HZiB3s2HsOfimwD+VPdxQ/6gTqCe7ylYLmDXTfe2+1PjZBPqTI3sk0p9HQPlfZPmXZuGlZThGkPJLGTxbJDQ5WJRzdrK6Cf1YKNLClKndZaAkuCoz7JZ1cYl4SpnhoRe7ldi6OEhXAKrGWGBUfQSJV0KOAnCKbm5+BRcH2vMg5UjgPvtaT1/wzhcWoY15A7pILeocxYckTZEKxp8U5kyudBIQ+x5zeQCNN5BiYa86U5YJ25usQYIHgB2VLy0lwQLXF4aQcZP3+zRpswlwaUGJUH8FCXa8RKEadal9EKpmbWxC5z6rc0uQFi9pdr4NaG5+Bpun+/l3CG58Oy+t/PvJ+LypdW5ia0rGqJUDAoflW3s/pfXMJCpYdipGUrySlgq82YRbf/TFN53KxmXTGqd4rAleOP2y8hVoLMRc9mjmEuLuGTBBvQE8hYQWV8sbY0g2LgkTeuFYJFb7a/om4tXUGqbP47MjjMvef7WkaWAdfvXWrobC9XCoUCRtCsFsPMldDezAbVkV2uZnJi84OuF5F8ZJJUiYAqTFraiqjFLhqUwOYjguJhoFJwZBcoaRJKaLTL51GfMVQ4nUQIN8ScLtKsLibJlNOnlwZOPtxGsUIjEARvrHBFY1zQXr2PVlv9FwN3Ldn3Js/jf6DMpmW62/rU6954skBs1KaAYiIwR3NglAnp2uyQo2alPLiZ4iYNvwiFfFEsvDZ4gw2i+CdHYlyGkcODNjCkTXC5O9rQX+xU9NbpTQCFWUQWKctSxyqe5qK2ckXZHnTv3CEsS6eVdzsbPys3FZxFr+wkCSc1yykseUJIlR0zSf4sKUpAscjNLAWUiAwqrc+umUNiEsBKQkaWAQkbJGvKXGRHwFUMzqmcJvWZGI4VvS0pw6hmVqbH4pDASseSn8JIdPJUhSmy0lGQJKHTGzO58JlPQckSmdJE1UwDp0KfxBbm5+AJo7XKMQLKze8kNcOz/fy0uO/7fMHevym6XrRBkyaQDK3efO0jKfQjylHDJEQ6VyQWulsiehXarpYXJICzZV7lr6TgeM656LJmxCKVBHCVTaxDPZP/MIg5iVY4iLzPUONondZpd3Ao43MGETgMxyYCl9/XL5uJ1rNryOgJOVfnEozwM+pIH/TDLigGV5N6Walmyu2QQI6PURRZwn8uq8pS8bBBtYEA/sWRVYwS5I32lrSwVZQkirymUyldukBOu6Ti6vCQ1Q66AELlc4pJ3weMtyVq+NlHWrwsZNfZ7iVgJbBFwtOCC+YXL5uILoLXLaxCQoHnKc3u8JsEXRJHXJBGZgv3sztfAKtSMxMQSlpA1GjnCLNK0S2RUD5vI+MRMGhornB4hvhDI1ESjNrrIyu10KhgHl/xkKQNqTCMiNhbvSYAN5OihUtjcpkBpvx0rTPRSmfK05VPK5uJTcLXx1yIgKSc7fG3Kk9FlDcnCUjlapEg3qhnQGCEnL+Rk4TQ2lLyTzMuqw6yX5k3+EmFWrcEUtOOlvpmRFqiWrjPXlryVC3vL9hSxBluzfTFE4zgs8yLgqDJbQ5mpi5z8KwhlGKdCz4Ctxhf1zcWLQLXZdyPgVv/uxEf55IhCx0nK2uT8JQ/mqmMsq1Kb0UoWqiOC3A3pSD1Of7aSGSW7pFdZJs8SLJP4jJNUlbxmxqlAhQZRwJgaSr9mhxBtmeJzlCaa7gogaS8ZkCC+ZygRpGD0IoPAJ9ES0mnjK8rm4hWU2qYR+C8CucllEzfqyA56alz2vHu76KVjHWU9LeURiYMCkh1KwdQj9RNKHvTAsCNp2qRJxBRpj4dCKYbL/CTgWJUaOuXTSsawLgkvgo7SejkhDJV0n1Suo/fa+3LY/o5Bc/EOOL30CASSVh5R0J8/8EL5ZKuzLXM/W7PsMH6nlmhkUjTQQZKFFImB6bC0pGQHB0NdoFfn6BJfffKsZJRMRJazN8gii2A08iZcOemLreeHcTiZ5NC0VEYQH/nUIApblt4CKzSa9/qC0Fx8AbR2+W4Ezu72r64vycutKxe77ZPLKGk0VoOAr/GTnqRUlMURtlKZCEA3zIPyiJa8JMnsztoWg0Ybg/uCRc2KkKmR7Rf3PAw0pvJpJQLuGTNlWKkzmZ2MRrDHYjw18Px7yfPZXLzy8LTNmxGQTd5cR6SXI8ruLUSZu1QXlGV7u2pAtnphHygJthqJlezwiMVawzRj0r2cmBUSh1ugQR4zRDDdviBdln65NL6zre1TvIxMHLHSXRY2Qn4LIT742KMuCnmwOX2LQ55AVHUKgS18mou3kGn9sxBgnzynpsJrbG8/JRp5UJbJoUwzOcWw9Iu7Zuz5vCSjGvCBPsRK6AxuMZII3JqfGjv9mQUhmctcK4JNmQLBT4KYTjNIMC8FExyY/S3PCN4Fl4omLRMcedxjT8DV5LG00v6WTXPxFjKtfxwCcsoTKnPH5vYeuRj6oGA3vJySQWQoAzoSsttl2IwjNeQoJ0ORV44zXdKo0UxXeE29ZSAY5NTtoJgpv0uywmjBWST1FEg5VLDPJXsX1Sze1pJYtSxFEtzapGkCngJhatxcPIWllQ9FQJp4Qn0ShCTFlpZTMLDUtC/73P2fNqmUAqCP5I6STi/zYuBlSUFkvaQYzgaDS4vEgYhROmOaYl/wUJHd0JTCCJJKCNeSypKXRrM1NZna7wQoDauXrO2SBx4awxpqv/H91ebifXx69XEIXNv/L2/DnY8ANyVZJHuSPV38Nu0+d8xUk/ZEc/PnkidB/lor+dGAyeAZIQ8GWkjmVbYGfNVnrhWcsR+LsU4EIXLMx1Gz0oI4YOAdyZuCiwY0jkFGUx4zFnwMuNL4vk1z8T4+vfpQBOSFt9TnXk3B8aqQhRUm+2Dsd+SMo+zsKXfwcsPpDPYZg+Bo3sQq2Ry96eTWTOcJoZnBs82zdGzNiYkpZGFWrbOQuL1oIO2qcbaV0IGlQEdkCsi+NDOglSeDIwv4NaG5+Bpu7fUIBNghF4jgTvVSRgpTFhj3vy7WrCYj4AgTufnlBRnK+NJHCmOPvqfOpMjJLGgkREFWT2Qv8534mPRQ4xlAQD5RyoAohUibHV/gMiZHiAfJeBYmdBk29Rkzi0E+7HTfoLl4H59e/QEIsN++odDcom7y5AW4I3evVRXffC1gKByx1CCpkGjF3kuoGXvzSuUGV5PMQhC8zAgdWwk2TqOk8zzIjIdyFiPpG18AszWU1KZehqWXdJQfMcYxDSjSUArgY2Ruh5/eR0Jxaa7DxncMmot3wOmln4SAm+2Lis69575NwXEVS7e99SSPYDyyIQGZmo1Q+E6bsSSJ0rk7mdc4EkrWX8p2aSzb4iVre1wUjIl95lIugnxnnbRWqFyvRM93O6xyugDReAuKIy5Qs7dYBFxdbHzHrLl4B5xe+mEIuEOSiV7Sg/tzZ+ezxKaVEfL7u/s2baw5XcaXCawmfViJtelV2ndmdOJTMKBDbnJToewkUOSSaB1qzgzcHS0zdUHDS0FWQ/swtUrJlzqxccCX1sEhy8gIyNm1q07N2qz3vmV5nYtFcxQoNA8f5IQgZfDdKrH1jcBZBCQ4H8WzEbA3jptQBlSjgHFxyec8KTgJdMpBaWwKGXNrFQ4qFGkuaqMkYk7bkb+kObuwEh0xvgCvVUkUasgiCVqPh42FeVpkU7ZpQAUA9E7ZhX1hCYBj136xwAz3ywgU0I65mG7L3RUCj9yxW89eYbJovazGttW00AjcR8BtXB7gxci6+3g7W7l7fZh9vHN3ZN5kUnaHQYwPyXKJrCXxM7juRlZT8qKXpDJIlu1W9XhAg43BQY8iM9EiqlJY+pqILJlRBJx2LS/J1O4sL0dA2/QOml1wbJAlqV994lOKWe99y/KAi7lnfpYoNG/nCR+yLZXzBD2N6V6C92Uj8EIE3Ki5J0t8bRB8vN2Kuf1Siay7xIq9WdIF49TIL4Uok24sIFOUIBZjXjdmYR8d5UF5ysr51muEUmQ6mm5dIDhJ8ZpiKCDyhmUgiAaCZ5iXCIm5UBDcCImJIGT7Hnv2Tg3rXW9ZLnGx51iJQt0oqZtuPccSO8wEhZgGFBo1LTQCX4SAG89N6xM+PoduTgR5oegJhdL4XNpFcVm8TAZxfNF3rEdyMS/16OtLRYPAL0kuLKFxU0NJxM+8RjbjoZC5kgqyWWuwzuQTCKdAraUl2TtL5FKGqbh3dOd9xDGfh5KLJQ+Dw5YPDW5xMZ0AXxZtwyJOn3au3vqKu/oWGoGvQwBWYmfuPIFlCnPDF6HsVVYl+36kKAAAHexJREFUhXz4na12qIdobiVd0Iy5HGDdleLm7mMp28kWpCEMrM3dSg1yfZZkrhWBpFgKu4Ro3lIbLWNv+4kqS3pRNpcgkEtiohJ3uzNFGpQaPJDyLq8gMLVZ4mJSioJPsJU5zJfiMCBxyphZEOh72UIj8M0I8EhvJeXRZU8mObpLFcqe18XIhErWS1+5UppzVY3s45L70e+mGJsUSyk1ScolBWvLsOayflJwCTOY7lAghWYSi/qEUUqhhmRqoCj3Dt/0UlPuHXkBzfYVMoKpt4bx7+Bi3x8Jt7e5QCCyF4RCzRcitEsjcBMBHkKf8xJNOkbP5iyf7IgkCwwMZZB0lIlS6XCjEl/3I5f5ycaUQZIdkKWe/FpthXJrGtOLMS2m9Ji5bHZH0N6NT0BcvAWmc05PKhxrsE7Ilyx+CUj7ZOfyPSPvUeFusTKRwe1op+vDpYO5+ND/VQbegFcF7DiNwAUEyi41gltUNkymkCx0z1WDpNJtjDBu+2kilMyP5CImXOAky1LJi42+Y0ZDJdfkqZBsXnox14oALRrNTrNClSSyNcvO9i3G7kDVswq9ZqSWQNXnTaHxAoVxBBxfQ620v2XzFC5+STNbTba+ETiFQO5hWZhdJxvmBnYmhSBGF7Kni7s6lcgGSSJACYmgl5UygmFzQ2FPVTJgBs8IGVYcyosRmZEsmWsR5yxGSEWJLrJCmdcGqZNP66Q7W0BPdyoF2VLVWNXWASl6xeACAmZXaC4WihYagYpAbma3dOEId7Jve9MrdymW+5+523NMM6ZZtuJgWfJaM3prNojx5UHjUIYGWZXukmBFcHatMUKOyXAuTpnRRJKyXCwgtkxA3DNXaYQl+jUjStL50olVwpaBHUtTz9pd1TUXryLVdr8WgSSF6VZkkzujpb3f8aUMaUVB1nBjG1AO1ZgsTqbqcZE+Sl4ozE8TWZXzprSihsj5Qhn3rEHKO3xIZFuoLet0yRkWja1l/coJUZ40tkZJmiGAOTZ0SsBsSmwzbLm5+h42fmjQXHwIURs0Av8iIHe4RVNI5kp94Rp5LW3c3gqsSjfSSkbbYg2IQ0qVbghe6syMGmgjf0mOFEBqHgtKPfWI4GLwLHU86qwwyxMfgtgjR4Ll6bJ1+xJYbk02RWGOw5nUJZn9FAJT46dwsfBNq2xlI/AcBKBIdmZ+urGlD1atPI1TlpVQpnvKkkUSejEwbBJcxtceIUl2zC7RwEdOjszI5uLSNg8FuN7g8LsF++qACgva42WWMZWJXLqjBm6ZN87KjUMN+eLCpYTO4o1wQXgQF1+ovl0agTciIK+xPyGXcXy2Qrdxkqnf/XUcZ8N0lDgyqQaWlOwgocB6mX3MhbFxknZTaUbLsM1DIQ8Vu0ZZiNjvAR4ncLEgWC3c6qVVlTq5THASDU+F4pVsngVrlgEP298yeBAXcxu2Cm19I/BMBNycUpUCe9Wy3bpFyAkxt708mMOgssNa4SmCJztQj/ayHl9GdfdUQLCvwlZj8c6YdrojyLbMldaZ6TKj/doXBWOfsnDJJN4IKiwRhFozIkj0lMElNroUEOxip/HDpQdx8WGtbdAIPBaBZLTc2052ucPLTp5euvnLqm/z5IWSDvtkB2qDj6wz45hLQkx6lRkxywhkyVyHN6hEljeZ0CkgO8pXAVQCO2epBVsMslq5GMElzwPBzBPLe+eqBZSbcgqBLYgexMV5V7bKbX0j8HAEkkfYsRacGxgqTI2OZecXG+ijsI825HKg41IuHmdMkqa+RJZ5CaWlVGg9trkvFC4mHdHKCxOVHgZSoWRKPRYpDghCmgaSe8FZfQmCrxGkXQT0Kvd73199EBfvF9qrjcBPQaDwrGWXTV4u8ZIcy6qXkJcsox5BysjJBsJK6ile08tpJfJjKcMeDwXncbiPgFIq7nbhC9zUWK0HA5pSsBCVUVf31CNTTEZTziMKY+KLw2HjhwYP4mI6PKy4DRqBH4SAPCgF7AhwQVJ5fqdm809ZyZjyS05quKhJY+Q8BlxVkC7VFOHUzi3G8il6L3MW9kV2rmpPMblkeSrzHLIdI4APD5VvMwyCMJ2aS/ybj+WDuPhmJ+3eCDwTgZy2yg7fuhwJN6c8vKRmRza8CvO66l/kdCeCHG2KsarSQrk0wjr+ycilEcuA6YiJfbYgD1It7zf0tQU1BdJSAFlsxJch5UggrMVklvXetywfxMWJzla5rW8Efi4ChT7cyVsCPCKbYJbcqma0lFYY6HxLazRdtHRprIe9ySddSMcIpzavvmSkI1OQ3bB+S7CFMqJatoVB2YIjC2vJEo0bFnfhTWMeOXiZaOXVthjeeTgfxMV32mjfRuCnICATjZSXmi2zLX36whoCAn1IasWSd7KnwhJQtjrLRMnpEmgyIxUW1rMLeTBptLxZ9gSSl0nEJ/HBZ0QDF7rz0wNDoGy/oC3sZ4UHcfGpo/Vsn23fCDwNgdzMU0ZIpcZQkktSTFIVq/YrCxtk+tXbmPBaXspoKkdSM92hkFwMtSV1jikI6FgqF2OZlWRk4yAAQvpqnLMw/A5QWRUawRd2bQ67PjRoLj6EqA0agS9EIPmx0EdeOo65+XGUFKQJvHJWVaNAEC6hJ/naKS/5qHB3Mc5ch0hRsJyIQD2Qo3O61SZEcCVL46dh0wVkcARGB2rzFvR0cdw2oEIZnw8bPzR4EBcf1toGjcCnIpA7PClm1DvEpdkow2vABZMaCsHLHA+T2RNq9GbxUiGND+WsTS5GcCyVOk1aDok8D7CRYWVJD4lCtVl2iV+ysOrRZUA1Rj7s+tCgufgQojZoBL4JATd2EkSRk4sdlvOtgnRm0dCuM6ABZWE1khQa+VoDBCKn0lwrAnkhU9iN+rM1KmHVjiTxfLMB825BRxZXM4Wl2qxj9X49pXHp24DXhAdxsUBf66S9GoHPQGCLAd3zaSB7wjLQlpYAAnfAR/pKiE6RSTHSk0odU2O6U8hPM1JPZklCQC8p03UeRVZF715Kr7gkFzvk+iIi4cpKjFYyUmFB+xQUafwgLs6yWm4EfjkCkqxEgJBsUpbyUqLRnoBTipFSiTC18Vu5NmgwTt48vHFjupEo4WtzIeSQO3J3MeZSajZFzshZKvYeaToaRwTEB8HIGe2C/CAuPnU7L7TaLo3Aj0OgDGLJUHIEggQBiSQXyz7FxUuGR3NlKG1gHC+LsL55yUIKZG+KdcpuVuLbZJZ8d6FBqYdLTwuLz7yOwwahEssgCKtmzNcXIqbSXi4IzcUXQGuXRuBbEUh2SHlKQFKMJUKUGktnhvLvYLKSgl4ZTbp3dZ2LndM5Vxx14c2Mw5JUKEFrgwGFWUkKNAiNIsvplMGnOIgMQbIA33WgxMDUefIJ1FmhufgsYm3fCLwHgZzCknHGb9PJFMl9xSs5CHlMkUSWicp7BvlxBRpyGdkyynvkpEIql44RMo6teYpQkvoUsNGAmncMKBUD46d9z8Ur971tGoGPQmCky0IKUoZtFwNo1O/vhQHLpWMpQZwKk0BPTYVZv9GskHRles0aYGF71N4ICsnX5RTRHRAAisZ1x4WTzKSeQFaovWhfFnouvgxdOzYCb0MgGU06SCH5US6DU7gcp07coRvZJ2PCVqQu4/apuThjTqNpYOWSKWX7qcFI6wTJM8OwLvnmAQ3RNBMEwHQVAR6nsET78jPRXHwZunZsBN6MwEg0yRcWJ7nsCDr63lZjeDaJKWXMTnGxTJpf7YnjoGr21DvRO67So3GKl3q7IzWXEGhx0cAzCQOMPTmK7/dxMdB7a+3fKu0nz4pFmWhAUFL0ZSPQCKwg4AZMQcdUTmUohm0uv7t/nUmnvn6XN92KkBmxZ+gu3/19J0BqKE9ipUIuIZCtCm2hBCSdLZtF+9TIURKxgqS/0vuWzfFcbOd59FF93i1XKStPnh1ZL/vcKrT1jUAjsI+AWxUG0ZhL6A95/BxXc3drbwpJbTqomXoUJL6y96E/4kuRuOPCUnJu1ky0LE85i/cMQEn8MTIaVnVPwdS+5Rg7Pas55mK4VfItCaYNW1+eY0LvQZr862qJ35eNQCNwCgG3pF5JIikn2+olV6JRn46jfGr/6l4mcf96ZmESPQLUAQ/S3chLBlewhZGveddhEARYixr0zWhChFJ3Ab8m3OLiZNXCv9kV/QBE6gsXn7qd17ptr0bgNyDg9DdSiXznH+JkmWQ6ZOawNFCfSmbkdWCTy6TdDIicZrI2PKOXjEkNUrbRpgiwSsF2hCWfspmrloSXtZlxvf0tyyUu9nuBdZR35wkExTkRc6l96vMlS/LyVq2tbwQagVMI7DBRssyWmUQjtRVBx1ODlF4ZTeWYFMI1BTzIJ8RCHI8EQ6k3keyEpriDiXNxEpTElbhpoMupu1OMj7nYEwBP+sweoFE514MLexHc0RMzLUuVfdkINALXEPDNpnw0CiN5oUkCwqtYSkynNi+kWQIWlhzHdlNQgxMx/ANNyeNjnaZzSQKdjv+0lt8wZMIE0LKv3Z30OubikUMFJQPdlHsuvglguzcCOwisMLIUk6Tj2wBXU5DXznICQXQvl1Kq7wo8FRBgar9tOxqySjFZZ76ZMRdmWYNjZfEdL30T4NIO+ItLS1y8GOuOWXPxHfTatxFYRCCpR1aSyxwGFbBPdpZ9JDhfDizWQASMpd0sLGXTJS+jdBamfs8bJ+UMjhJHmZ0aTIF9hh0NjKAXeRd73zFrLt4Bp5cagc9EYEp2fh/fYl7Zhy/1GQR2WwTL9w8kksukS2m3VII+83JmmJ0lybS4FxqlWo2zO+P4OsUhumTXa7H3HbPm4h1weqkR+FgEnCJlk1HY4p2ciPGSDU/hZfwilJcMXErZGhfu9r0BY7KEbl846j6+JpZ5tXGyNki+tEkMTzU+NW4unsLSykbgVyCQbCLdSK9q5CY1xeYUF0uahnU4lfsQsMwiSaTjOKEzKaMvc7GvYtQnsWZrsDy5kHkaxq4z1M0nprn4JoDt3gj8eAQklOQjZKbLHQPMGF0XgRizqMlEREMD+Rrf2iBrKNUaHNt9g2H8FEZax1Gil4t9e457GhjQ2i4LzcWXoWvHRuCjEEgelGJSkINSiSwPriAiRfpOABJ0bsUgXzI4JqeSXDCm7yVkbbM4/DplW7/R5PSMQ1OkRk9w5/REbKXxfZvm4n18erUR+F0IJL9AczIXTDRl5LNcbEwF307IdGqkZjROyqU8Q5W5uHSUl9K095ggydHJ4JbkJE5tvBIxyDXhKVxM89d6aK9GoBF4LQIS1pR5R1K+w8W+kE0yHVOw6iiNgcSNAEU6X9tFRnZenr5rNks2XmTCJl9/FBd7P177SHW0RqARuIzAlMsKG0JeZ7lYdpNSIVMHT/SaSZESqG8VSO3snAYGR1kYOZUlXWm80K6rAksoL68JPRdfw629GoHfgoDUM3KZmrNcPMYstOtsq5B8V95OGA2C5jNLwrekSGVmMZFhbVPKNtT4luPyY9FcfBm6dmwEfhECso/E5KtSZ9JFODKCMvF91QA5+goCMygYisw5mrzYJKuiJ7KkmWU78OYrZnNNW86YjuTS9yICU7Pm4iksrWwEGoEJAlN6OsXFYwTfS/hrCgdbmVoB+tPFaL6ygIslWQ2MQLXaTw20kcGT4nUxS3Px5FlpVSPQCHw1ApKRBMfEeph3/NYv6xGTvxuhdChWMIsFKOSYDFNLoxSJUntSJJla22hjKBg8u9brsPdDg6fMxf23u8Nb1QaNwKMQmHLWToXSllxWhByHfR1RsuRcLEXKtmbHXcI1SKmhRMiDQReUprBmUmhm6svCU7iYA+pyG+3YCDQC34+ATOTEulUDJJhU6HuGQnbOqg6h6eUrWtlWcpQuk9Opx3E7Q+Xf7koQ3pZYoTO1gvYisNX4ur65eB2rtmwEGoEJAhDcZCFUkFehQtlTaisCTGd8qJBLmXorCMlzjh4Z1rnY1yBjAWX+5eSwBrL0++K41S02Ao3AWxGAKEsJheOmXMyfxQrlSbW6OJOmRlkOdULHPoduGDNLkotdQuO0K9GjUc+gTShqKI1fuOy5+AJo7dIINAITBGAlaNRXDb4fkC4VnHMhtWRP5aTLZEZyEdzxWWVxt4ZCtRncggt9c2lA6dguECZwnFQ1F58ErM0bgUbgCAG5VUPpMiksfyiGHjJNNkzuc+ZNDnWkReAkyPMgB+HMrv30x8VYmlE2Vz+GstlrQnPxNdzaqxFoBA4QYJbEyIm1UFi59NXEVG8+aFTKdmiFdmFqzwOVTL7QK/Uk0WfGpO+0UVawBmu7LDyIiz2CLjfTjo1AI/AoBOAsmcuxN4lPOVeTSTXwj29qHJBNVIKAho5SsOeEoQr/lsiajbM8qe/D/iAu5i+e91vqCI1AI/AoBORiBagteVNNIbviAqtKlLQpcTPPOSZLoAiGwixfboyvKfSVo63WLNoQ6ibmD+Linotv3st2bwSejIBUmBRWWFKS5bu/9MdlvgXGkX6dduXNkiLNmPlw2fp7XSmVy1T6M2cT3Ue+ufg+hh2hEWgEVhFIRpPI9gUI2mk3+TodGaihY6qRo9PFOA6z05KKWSZCznPCUKsozOyai2eotK4RaAS+EoEp/cFx5R2Fbw8kx0KseUkELPNfeUjTSal+EU9WtTDTOZIb3Do1/jQu7vfFX/nwd+xG4HEIJDOOsj8jg/J8/yBZo3H4La81tM9XzBkKOKa/3EgiJqyMTAQOAN87P4uLqd5fjfhmx8OH6n0cNFDTXCwULTQCvwSBHC0LHee4mqMoXJw86OwMfeekDC9JuMmkIJyUnQVkYdAa9ugN6xvn+/dr6R0FJY5cyVnh/G/1li4EwErbmHmm2cMY36UWGoFG4IMRGGlXMlFw7HUuzukVs0LQukiyGY1h1rHasBorjGFZkt++aS72BCj5sgeHX0u0Ss+NYsODlfyrwQc/c91aI9AIbCFQiDKpMOVC3FJN2igXwXFwOkFrnKSncl/YampdfzwX0yqHxhhXAgUgvh3ki57m4hG01jQCjcAWAiMjF03hYunVVxNofMOLkEwqKenCoJk2ysnL0B1LpYytdtb1x1zsm+8yF5OD4ig3s1oo3YKmMvwuy+OYM3KGarkRaAR+FQKyB6wHe/gpk0JNGmsgjQKal5AVPJOUtcPakq9ZjFay379Bx1xMh5QrCgpZWTl/6Lk40htTtrIcfb+fjtAINAKfgYDMA8lwKasUtqFlKMW3FgrSVMZMY6gWjcYIUxa2GAPex/yYiwtRUhmJfefi5bWCxr/jXYvTXo1AI/BhCIxUmBrG22RPXykUIk4v7HMWhOUyTr4P0F7BP/SRpYS6dguWuPha6LNeL+nnbNK2bwQagYcjUGi0XDqZSr5q5FYaZJRmlU8pWJcyGqvPv4Hl+2iKeQl3NRc//Dns8hqBRuBfBJIBJVkH1ULQGqiXNGFk/zpVJmtYVS/fhEjK2qNRf/8mNRffx7AjNAKNwPchIM9OBcnRVedl52LfYzgX80YCvSMwETgDSti8RL7ff3PxfQw7QiPQCHwfAg7Isq0CRUCso9KRVlL2Nwg45jisO0Ih33xf3Fz8ffe+MzUCjcADEUh+lDpR5pIUnEro2Ll4XCqMb9i0TPk+Pj0X38ewIzQCjcDbEEhClJEVCqWql4s1kLL9BYXDL15biZim7/ffXHwfw47QCDQC70Qg3/BuMSb68haCdxROxxB0sZG+0Zf4Xt7vv7n4PoYdoRFoBN6PgLQoe6Jx4IVMpVp+SsFcrDJHYH/flj+uKFl0vN9/c/F9DDtCI9AIPAWBwpX+QEKSlT39jzrowlIaSOsKrOqi/n7/zcX3MewIjUAj8CAEdsjUGRkO9XcUXOrIW4tijA0s3Fz8oPvdpTQCjcCTEZBYR970vTD1O9sWYX91anwHkJ6L76DXvo1AI/BoBKZEDBfzjkLKzrFX2X/cXJjXCAr3UWguvo9hR2gEGoFHI7DFyOUdhYTrH+vy3+y5Wv4tCfr7/TcX38ewIzQCjcDTESjzrwTK7+GSrEf+zVUHYcZql+7331x8H8OO0Ag0Aj8DAakzuRhZspaL/d1x+SOe/zwER0PdhKC5+CaA7d4INAI/DAE5dHxHAe1K2UnHejEaa9Nc/MNuf5fbCDQCz0GAKXg64cKtSbX57/pYxTFt7rfWc/F9DDtCI9AI/EgEctQ9lJN5R+P7/TcX38ewIzQCjcAPRmCFZPlLnRRc3iD7T/juoNBcfAe99m0EGoFPQMA/3Mm2CrQ38nX5r7jdR6G5+D6GHaERaAR+PAIj20rH4xTsL9sk8fv9Nxffx7AjNAKNwIcgILdKxKMAaxfuvt9/c/F9DDtCI9AIfA4CUzpO5i1vJyBr/89MLwPxIC5+yfvvy0C0YyPQCDQCIrDzc7dxUn4Jdz2Ii/3PcAhHC41AI9AIvBGBHIenFKzyfpEP4uKXnC33EekIjUAj0AgkAhLujpD21+Tm4mu4tVcj0Aj8IgSmL5GTmu9jcZeLfWPNPxOkoJTzzUPR64tXz8X3b2dHaAQaga9DYOeVxf2kS1xMBcmq+d/UyH+sXWR/l+c/3/Y/vYGQdFzi3++tIzQCjUAj8FoEtgbk+1mOuZjcfGY+/oPK/ryDJYb2dTn5N+VM1HIj0Ag0Ao9CYGTk++UdczEDLP/tuBxjz3KxVJt8rZL49/vpCI1AI9AIfA8C+crifsYTXCz5kpX/4rJzMTQtz3JuYOMv9XiD4dsJ9PaQvKyyhUbgSxHIv2HkqJEyb+T8RMAgzdQQ08h5qTKDlMhf2m8HfzkCkt7NyMdcLKv6tzVI2SmdR5CCUqayLHRL5lk07PjsqvEJVjPdACiFRhs1RUj7YlyW3Evq1ZTa3GBZqnKuFkdtvkIo7+tfeOl/YDtjcsf5dIjAwH/Rn/baTB0PlcXAaAomTUvlLMyqpi5bq0YwZhE0oCQLK5fF6+ylWbJ4c2U087pqa5eF6R+HUPpIO6Wp+bkCeEoIhVvWL4+5GKZwaIWC1xOsWDo4X779P9GRfZKV8zi+6jGV7uX6lXvxpTY+RV+a5VHBf1vLPM8+ck42KfCcc5u+lIK3thL6sjpVuiWLcSm7vDO49gQucfG10Ge9fuFTexain25/f3b46Qh8fP3Jsx/frA3C1F5eEx7ExdcaaK9GoBFoBD4AgebiD7iJ72xh69uM31X5hYxmZW5yUs4/5Kb8zt5mubfe0fni1X5t2S+w+Nqyev4Arn6W9p26csssZUufL8cWZWP+ZuFruZi32gXf/NOBP8PgnvEKFfsi518OfcpL5LdfZs0W49twWkiSyrf+bGY2ZOpTNuZDBF+xlXryZilrDCASrm/i/N0k9/eBdzlrzpbVJ9si24v3HeOp/oF0TLU2aNd26v3lQS1HEV3nk0/jBNTXsM8RaHCspxy6Hqh0yh3MvZyPQcpj5C/kYqr0ESy5WfVmeCO5l1N9spIGJewbL31nNCURd6D7Le11STbPO6rBGxscU1uVAjbeHXvMQ7fcYtrEschjxvdqnARLv0lM7kluJZYaiI8Ryh1/b4Njdu+g9xQb2Tm3OTbZ8rTNstnHpE/Q5KNoPXbNKt0VWcZDEA31PkWGRfhaLiaH98PctuQNzieyyNokOiqN+XbBNhWyJJTeHhH4ucRE5XyhKS3bpl1zv/Ic8g7mbS1yAvgEWWJSoCrvZm7LHIJS5lgSsXzaxecJzVKDnVqwtdE1xMqqvHz4NddoCoZ9juAjakmikTeUm74/EZebPr3R7+Fim0zhUH7+RuWejY+XJ6FnY+ll2nux8YF4jkDZdmdh2Y48xf70kfWxRgA0ZG0M+BDB8dZbjGCPHkJouMzVUUbj50M6tQyfWO+pSwicJZgpc07rS3cJmtFUlrBPuLRIi/H2/TAu5k6Idd4Ym0yblL157HOWiixADxHcTh569l76daIsNCQ95TONbMyHNEsZ+US6/ZyJnJLy5ZKPgWaEKgePiD2qX0u1Knq0d26TT8Jo7yPhM4DNM++v9eftUM5bhiVL+VSMsu482Dg+8JPKvS+lbO7juH/VC07ayGDTfr9wLuZpsxmLK3VowOYsqz/uMtvx/mUX4xSZqy03Ag9HIJ/wh5d6vzybzUN0K6zGhcq29CXO13JxSdaXjUAj0Ag0AlMEmounsLSyEWgEGoFvRaC5+Fvh7mSNQCPQCEwRaC6ewtLKRqARaAS+FYHm4m+Fu5M1Ao1AIzBFoLl4CksrG4FGoBH4VgSai78V7k7WCDQCjcAUgf8HdCBEXhAO6hUAAAAASUVORK5CYII=)"
      ]
    },
    {
      "cell_type": "markdown",
      "metadata": {
        "id": "Vzn6sgjfexws",
        "colab_type": "text"
      },
      "source": [
        "#Cconstante de Feigenbaum"
      ]
    },
    {
      "cell_type": "code",
      "metadata": {
        "id": "Um03DexDeufR",
        "colab_type": "code",
        "colab": {}
      },
      "source": [
        "δ = 4.66920160910299067185320382046620161"
      ],
      "execution_count": null,
      "outputs": []
    },
    {
      "cell_type": "code",
      "metadata": {
        "id": "NMB-XLlle5sm",
        "colab_type": "code",
        "colab": {}
      },
      "source": [
        "import numpy as np\n",
        "import matplotlib.pyplot as plt\n",
        "%matplotlib inline"
      ],
      "execution_count": null,
      "outputs": []
    },
    {
      "cell_type": "code",
      "metadata": {
        "id": "draAgdjwg6UK",
        "colab_type": "code",
        "colab": {}
      },
      "source": [
        "def logistic(r, x):\n",
        "    return r * x * (1 - x)"
      ],
      "execution_count": null,
      "outputs": []
    },
    {
      "cell_type": "code",
      "metadata": {
        "id": "YkgmljLXjlfL",
        "colab_type": "code",
        "colab": {}
      },
      "source": [
        "x = np.linspace(0, 1)\n",
        "fig, ax = plt.subplots(1, 1)\n",
        "ax.plot(x, logistic(2, x), 'k')"
      ],
      "execution_count": null,
      "outputs": []
    },
    {
      "cell_type": "code",
      "metadata": {
        "id": "LiQYmPZRjobq",
        "colab_type": "code",
        "colab": {}
      },
      "source": [
        "def plot_system(r, x0, n, ax=None):\n",
        "    # Plot the function and the\n",
        "    # y=x diagonal line.\n",
        "    t = np.linspace(0, 1)\n",
        "    ax.plot(t, logistic(r, t), 'k', lw=2)\n",
        "    ax.plot([0, 1], [0, 1], 'k', lw=2)\n",
        "\n",
        "    # Recursively apply y=f(x) and plot two lines:\n",
        "    # (x, x) -> (x, y)\n",
        "    # (x, y) -> (y, y)\n",
        "    x = x0\n",
        "    for i in range(n):\n",
        "        y = logistic(r, x)\n",
        "        # Plot the two lines.\n",
        "        ax.plot([x, x], [x, y], 'k', lw=1)\n",
        "        ax.plot([x, y], [y, y], 'k', lw=1)\n",
        "        # Plot the positions with increasing\n",
        "        # opacity.\n",
        "        ax.plot([x], [y], 'ok', ms=10,\n",
        "                alpha=(i + 1) / n)\n",
        "        x = y\n",
        "\n",
        "    ax.set_xlim(0, 1)\n",
        "    ax.set_ylim(0, 1)\n",
        "    ax.set_title(f\"$r={r:.1f}, \\, x_0={x0:.1f}$\")\n",
        "\n",
        "\n",
        "fig, (ax1, ax2) = plt.subplots(1, 2, figsize=(12, 6),\n",
        "                               sharey=True)\n",
        "plot_system(2.5, .1, 10, ax=ax1)\n",
        "plot_system(3.5, .1, 10, ax=ax2)"
      ],
      "execution_count": null,
      "outputs": []
    },
    {
      "cell_type": "code",
      "metadata": {
        "id": "z3XBmjD6js_G",
        "colab_type": "code",
        "colab": {}
      },
      "source": [
        "n = 10000\n",
        "r = np.linspace(2.5, 4.0, n)"
      ],
      "execution_count": null,
      "outputs": []
    },
    {
      "cell_type": "code",
      "metadata": {
        "id": "GYPv5Lqvjv1Y",
        "colab_type": "code",
        "colab": {}
      },
      "source": [
        "iterations = 1000\n",
        "last = 100"
      ],
      "execution_count": null,
      "outputs": []
    },
    {
      "cell_type": "code",
      "metadata": {
        "id": "YughQ4Qyjy3W",
        "colab_type": "code",
        "colab": {}
      },
      "source": [
        "x = 1e-5 * np.ones(n)"
      ],
      "execution_count": null,
      "outputs": []
    },
    {
      "cell_type": "code",
      "metadata": {
        "id": "8K8idzy3j1gn",
        "colab_type": "code",
        "colab": {}
      },
      "source": [
        "lyapunov = np.zeros(n)"
      ],
      "execution_count": null,
      "outputs": []
    },
    {
      "cell_type": "code",
      "metadata": {
        "id": "GJe4_IHxj36L",
        "colab_type": "code",
        "colab": {}
      },
      "source": [
        "fig, (ax1, ax2) = plt.subplots(2, 1, figsize=(8, 9),\n",
        "                               sharex=True)\n",
        "for i in range(iterations):\n",
        "    x = logistic(r, x)\n",
        "    # We compute the partial sum of the\n",
        "    # Lyapunov exponent.\n",
        "    lyapunov += np.log(abs(r - 2 * r * x))\n",
        "    # We display the bifurcation diagram.\n",
        "    if i >= (iterations - last):\n",
        "        ax1.plot(r, x, ',k', alpha=.25)\n",
        "ax1.set_xlim(2.5, 4)\n",
        "ax1.set_title(\"Bifurcation diagram\")\n",
        "\n",
        "# We display the Lyapunov exponent.\n",
        "# Horizontal line.\n",
        "ax2.axhline(0, color='k', lw=.5, alpha=.5)\n",
        "# Negative Lyapunov exponent.\n",
        "ax2.plot(r[lyapunov < 0],\n",
        "         lyapunov[lyapunov < 0] / iterations,\n",
        "         '.k', alpha=.5, ms=.5)\n",
        "# Positive Lyapunov exponent.\n",
        "ax2.plot(r[lyapunov >= 0],\n",
        "         lyapunov[lyapunov >= 0] / iterations,\n",
        "         '.r', alpha=.5, ms=.5)\n",
        "ax2.set_xlim(2.5, 4)\n",
        "ax2.set_ylim(-2, 1)\n",
        "ax2.set_title(\"Lyapunov exponent\")\n",
        "plt.tight_layout()"
      ],
      "execution_count": null,
      "outputs": []
    },
    {
      "cell_type": "code",
      "metadata": {
        "id": "xDgPfzeCj7Up",
        "colab_type": "code",
        "colab": {}
      },
      "source": [
        ""
      ],
      "execution_count": null,
      "outputs": []
    }
  ]
}